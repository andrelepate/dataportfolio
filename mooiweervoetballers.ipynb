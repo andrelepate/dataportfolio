{
 "cells": [
  {
   "cell_type": "markdown",
   "metadata": {},
   "source": [
    "Met dit project willen wij de brandende vraag beantwoorden of Ajax inderdaad bestaat uit mooiweervoetballers. Hiervoor is gekeken naar de eredivisie uitslagen vanaf seizoen 2008-2009 tot 2018-2019. De data is afkomstig van www.koningvoetbal.nl. De weerdata is afkomstig van http://projects.knmi.nl/klimatologie/daggegevens/selectie.cgi \n",
    "Als afhankelijke variabelen gaan we kijken naar het resultaat (winst, gelijk, verlies), het aantal doelpunten voor/tegen en het doelsaldo. Als voorspellers gaan we kijken naar o.a. temperatuur, neerslag en zonuren. "
   ]
  },
  {
   "cell_type": "code",
   "execution_count": 2,
   "metadata": {},
   "outputs": [],
   "source": [
    "#importeren libraries\n",
    "\n",
    "import numpy as np \n",
    "import pandas as pd\n",
    "import matplotlib as plt\n",
    "import seaborn as sns\n",
    "%matplotlib inline \n"
   ]
  },
  {
   "cell_type": "code",
   "execution_count": 14,
   "metadata": {},
   "outputs": [],
   "source": [
    "# importeren dataset Ajax scores (lokaal opgesglagen). \n",
    "df = pd.read_excel(\"mooiweervoetballers koningvoetbal.xlsx\", index_col=None, header=None)\n"
   ]
  },
  {
   "cell_type": "code",
   "execution_count": 15,
   "metadata": {},
   "outputs": [],
   "source": [
    "# columnames toevoegen\n",
    "df.columns = [\"Speeldag\",\"Datum\",\"Teams\",\"Uitslag\"]\n"
   ]
  },
  {
   "cell_type": "code",
   "execution_count": 16,
   "metadata": {},
   "outputs": [
    {
     "data": {
      "text/html": [
       "<div>\n",
       "<style scoped>\n",
       "    .dataframe tbody tr th:only-of-type {\n",
       "        vertical-align: middle;\n",
       "    }\n",
       "\n",
       "    .dataframe tbody tr th {\n",
       "        vertical-align: top;\n",
       "    }\n",
       "\n",
       "    .dataframe thead th {\n",
       "        text-align: right;\n",
       "    }\n",
       "</style>\n",
       "<table border=\"1\" class=\"dataframe\">\n",
       "  <thead>\n",
       "    <tr style=\"text-align: right;\">\n",
       "      <th></th>\n",
       "      <th>Speeldag</th>\n",
       "      <th>Datum</th>\n",
       "      <th>Teams</th>\n",
       "      <th>Uitslag</th>\n",
       "    </tr>\n",
       "  </thead>\n",
       "  <tbody>\n",
       "    <tr>\n",
       "      <th>0</th>\n",
       "      <td>Zo</td>\n",
       "      <td>2008-09-14</td>\n",
       "      <td>Ajax - Roda JC</td>\n",
       "      <td>1-0</td>\n",
       "    </tr>\n",
       "    <tr>\n",
       "      <th>1</th>\n",
       "      <td>Zo</td>\n",
       "      <td>2008-09-28</td>\n",
       "      <td>Ajax - Vitesse</td>\n",
       "      <td>3-0</td>\n",
       "    </tr>\n",
       "    <tr>\n",
       "      <th>2</th>\n",
       "      <td>Za</td>\n",
       "      <td>2008-10-18</td>\n",
       "      <td>Ajax - FC Groningen</td>\n",
       "      <td>1-0</td>\n",
       "    </tr>\n",
       "    <tr>\n",
       "      <th>3</th>\n",
       "      <td>Zo</td>\n",
       "      <td>2008-10-26</td>\n",
       "      <td>Ajax - NEC</td>\n",
       "      <td>2-0</td>\n",
       "    </tr>\n",
       "    <tr>\n",
       "      <th>4</th>\n",
       "      <td>Zo</td>\n",
       "      <td>2008-11-09</td>\n",
       "      <td>Ajax - Sparta Rotterdam</td>\n",
       "      <td>5-2</td>\n",
       "    </tr>\n",
       "  </tbody>\n",
       "</table>\n",
       "</div>"
      ],
      "text/plain": [
       "  Speeldag      Datum                    Teams Uitslag\n",
       "0       Zo 2008-09-14           Ajax - Roda JC     1-0\n",
       "1       Zo 2008-09-28           Ajax - Vitesse     3-0\n",
       "2       Za 2008-10-18      Ajax - FC Groningen     1-0\n",
       "3       Zo 2008-10-26               Ajax - NEC     2-0\n",
       "4       Zo 2008-11-09  Ajax - Sparta Rotterdam     5-2"
      ]
     },
     "execution_count": 16,
     "metadata": {},
     "output_type": "execute_result"
    }
   ],
   "source": [
    "# structuur checken 1\n",
    "df.head()\n"
   ]
  },
  {
   "cell_type": "code",
   "execution_count": 18,
   "metadata": {},
   "outputs": [
    {
     "name": "stdout",
     "output_type": "stream",
     "text": [
      "<class 'pandas.core.frame.DataFrame'>\n",
      "RangeIndex: 340 entries, 0 to 339\n",
      "Data columns (total 4 columns):\n",
      "Speeldag    340 non-null object\n",
      "Datum       340 non-null datetime64[ns]\n",
      "Teams       340 non-null object\n",
      "Uitslag     340 non-null object\n",
      "dtypes: datetime64[ns](1), object(3)\n",
      "memory usage: 10.7+ KB\n"
     ]
    }
   ],
   "source": [
    "# structuur checken 2\n",
    "df.info()"
   ]
  },
  {
   "cell_type": "code",
   "execution_count": 21,
   "metadata": {},
   "outputs": [
    {
     "data": {
      "text/plain": [
       "Speeldag    False\n",
       "Teams       False\n",
       "Uitslag     False\n",
       "dtype: bool"
      ]
     },
     "execution_count": 21,
     "metadata": {},
     "output_type": "execute_result"
    }
   ],
   "source": [
    "# checken of er missings zijn \n",
    "df.sum().isna()"
   ]
  },
  {
   "cell_type": "code",
   "execution_count": null,
   "metadata": {},
   "outputs": [],
   "source": []
  }
 ],
 "metadata": {
  "kernelspec": {
   "display_name": "Python 3",
   "language": "python",
   "name": "python3"
  },
  "language_info": {
   "codemirror_mode": {
    "name": "ipython",
    "version": 3
   },
   "file_extension": ".py",
   "mimetype": "text/x-python",
   "name": "python",
   "nbconvert_exporter": "python",
   "pygments_lexer": "ipython3",
   "version": "3.7.3"
  }
 },
 "nbformat": 4,
 "nbformat_minor": 2
}
